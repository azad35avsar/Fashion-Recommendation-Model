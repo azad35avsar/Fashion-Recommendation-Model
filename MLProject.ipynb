{
  "nbformat": 4,
  "nbformat_minor": 0,
  "metadata": {
    "colab": {
      "provenance": []
    },
    "kernelspec": {
      "name": "python3",
      "display_name": "Python 3"
    },
    "language_info": {
      "name": "python"
    }
  },
  "cells": [
    {
      "cell_type": "markdown",
      "source": [
        "**The way we intend to use:**\n",
        "\n",
        "\n",
        "*   After loading the dataset, we will perform certain operations on the CSV file containing the data to make the dataset smoother. (df = df.dropna())\n",
        "*   In this way, we delete the empty rows in our dataset and we do not have to perform any action on the rows.\n",
        "*   Determining how many existing columns we will use for the learning process. (We decided to operate on the ''articleType'' and ''baseColour'' columns.)\n",
        "*   Removing the samples below a certain number from the data set in the columns we selected. (For example, removing a type of clothing that contains less than x items from the clothing types column.) (We will do the same process in the other column)\n",
        "*   Our purpose in doing this is to reduce the size of the dataset and speed up the learning process. At the same time, we aim to increase the prediction percentage by not including rare examples in learning.\n",
        "*   We decided to use the CNN (CONVOLUTIONAL NEURAL NETWORK) model for learning. We will find and use the most efficient method of the model. (To be updated...)"
      ],
      "metadata": {
        "id": "gVE7SV1DusgT"
      }
    }
  ]
}